{
 "cells": [
  {
   "cell_type": "code",
   "execution_count": 1,
   "metadata": {},
   "outputs": [],
   "source": [
    "import random\n",
    "import timeit\n",
    "import matplotlib\n",
    "import numpy as np\n",
    "import matplotlib.pyplot as plt\n",
    "\n"
   ]
  },
  {
   "cell_type": "code",
   "execution_count": 2,
   "metadata": {},
   "outputs": [],
   "source": [
    "\n",
    "# Toma una lista ordenada y un elemento, retorn el indice del elemento buscado.\n",
    "# Retorna -1 si el elemento no se encuentra en la lista.\n",
    "def binary_search(list,elem):\n",
    "    \n",
    "    if(len(list) == 1 and list[0] == elem):\n",
    "        return 0\n",
    "    \n",
    "    if(len(list)==0 or (len(list) == 1 and list[0] != elem)):\n",
    "        return -1\n",
    "    \n",
    "    middle = len(list)//2\n",
    "    \n",
    "    if(elem < list[middle]):\n",
    "        return binary_search(list[:middle],elem)\n",
    "        \n",
    "    index=binary_search(list[middle:],elem)\n",
    "    if index == -1:\n",
    "        return index\n",
    "    return index+middle\n"
   ]
  },
  {
   "cell_type": "code",
   "execution_count": 3,
   "metadata": {},
   "outputs": [],
   "source": [
    "\n",
    "# Toma una lista ordenada y un elemento, retorn el indice del elemento buscado.\n",
    "# Retorna -1 si el elemento no se encuentra en la lista.\n",
    "def ternary_search(list,elem):\n",
    "    \n",
    "    #casos base\n",
    "    \n",
    "    # lista es vacia, devuelve -1\n",
    "    # lista tiene un elemento y no es el elemento buscado\n",
    "    if(len(list) == 0 or (len(list) == 1 and list[0] != elem)):\n",
    "        return -1\n",
    "    # lista tiene un elemento y es el elemento buscado\n",
    "    if(len(list) == 1 and list[0] == elem):\n",
    "        return 0\n",
    "    \n",
    "    #lista tiene dos elementos y el primero es el buscado\n",
    "    \n",
    "    if(len(list) == 2 and list[0] == elem):\n",
    "        return 0\n",
    "    \n",
    "    #lista tiene dos elementos y el segundo es el buscado\n",
    "    if(len(list) == 2 and list[1] == elem):\n",
    "        return 1\n",
    "\n",
    "    #lista tiene dos elementos y ninguno es el elemento buscado\n",
    "    if(len(list) == 2):\n",
    "        return -1\n",
    "\n",
    "    #math to divide\n",
    "    third = len(list)//3\n",
    "    two_thirds = (len(list)*2)//3 \n",
    "    \n",
    "    #------------casos recursivos---------------\n",
    "    \n",
    "    #caso esta en la parte izquierda\n",
    "    if(elem < list[third]):\n",
    "        return ternary_search(list[:third],elem)\n",
    "    \n",
    "    #caso esta en el medio\n",
    "    if(elem < list[two_thirds]):\n",
    "        mid_index = ternary_search(list[third:two_thirds],elem)\n",
    "        if(mid_index == -1):\n",
    "            return mid_index\n",
    "        return mid_index + third\n",
    "            \n",
    "    #caso esta en la parte derecha\n",
    "    right_index = ternary_search(list[two_thirds:],elem)\n",
    "    if(right_index == -1):\n",
    "        return right_index\n",
    "    return right_index + two_thirds\n"
   ]
  },
  {
   "cell_type": "code",
   "execution_count": 4,
   "metadata": {},
   "outputs": [],
   "source": [
    "n_min = 1\n",
    "n_max = 1000\n",
    "st = 10\n",
    "iteraciones = 100 \n",
    "\n",
    "t_binary = list()\n",
    "t_ternary = list()\n",
    "for n in range(n_min,n_max,st):\n",
    "    suma_bin = 0\n",
    "    suma_ter = 0\n",
    "    for i in range(1,iteraciones):\n",
    "        v = random.sample(range(1,1000),n) # lista cualquiera entre 1 y 1000\n",
    "        v.sort() # ordena la lista\n",
    "        elem = random.randrange(n_max) #elemento a buscar\n",
    "        suma_bin += timeit.timeit(lambda: binary_search(v,elem),number=1)\n",
    "        suma_ter += timeit.timeit(lambda: ternary_search(v,elem),number=1)\n",
    "    promedio_bin = suma_bin/iteraciones\n",
    "    t_binary.append(promedio_bin)\n",
    "    promedio_ter = suma_ter/iteraciones\n",
    "    t_ternary.append(promedio_ter)\n"
   ]
  },
  {
   "cell_type": "code",
   "execution_count": 5,
   "metadata": {},
   "outputs": [
    {
     "data": {
      "text/plain": [
       "<matplotlib.legend.Legend at 0x7f2bbca576a0>"
      ]
     },
     "execution_count": 5,
     "metadata": {},
     "output_type": "execute_result"
    },
    {
     "data": {
      "image/png": "[encoded data removed]",
      "text/plain": [
       "<Figure size 432x288 with 1 Axes>"
      ]
     },
     "metadata": {
      "needs_background": "light"
     },
     "output_type": "display_data"
    }
   ],
   "source": [
    "eje_x = list(range(n_min, n_max, st))\n",
    "plt.plot(eje_x, t_binary, label = 'binary search')\n",
    "plt.plot(eje_x,t_ternary, label = 'ternary search')\n",
    "plt.xlabel('n')\n",
    "plt.ylabel('costo')\n",
    "plt.legend()"
   ]
  }
 ],
 "metadata": {
  "kernelspec": {
   "display_name": "Python 3",
   "language": "python",
   "name": "python3"
  },
  "language_info": {
   "codemirror_mode": {
    "name": "ipython",
    "version": 3
   },
   "file_extension": ".py",
   "mimetype": "text/x-python",
   "name": "python",
   "nbconvert_exporter": "python",
   "pygments_lexer": "ipython3",
   "version": "3.8.3"
  }
 },
 "nbformat": 4,
 "nbformat_minor": 4
}
